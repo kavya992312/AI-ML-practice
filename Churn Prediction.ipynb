{
  "nbformat": 4,
  "nbformat_minor": 0,
  "metadata": {
    "colab": {
      "provenance": []
    },
    "kernelspec": {
      "name": "python3",
      "display_name": "Python 3"
    },
    "language_info": {
      "name": "python"
    }
  },
  "cells": [
    {
      "cell_type": "markdown",
      "source": [
        "DATA PREPROCESSING"
      ],
      "metadata": {
        "id": "Iel8aNKEOqvb"
      }
    },
    {
      "cell_type": "code",
      "execution_count": 2,
      "metadata": {
        "colab": {
          "base_uri": "https://localhost:8080/"
        },
        "id": "X-YH4uUTOkny",
        "outputId": "7d599b57-6ba6-46c4-8a67-a1575abfdf0a"
      },
      "outputs": [
        {
          "output_type": "stream",
          "name": "stdout",
          "text": [
            "   CustomerID        Name  Age  Gender     Location  \\\n",
            "0           1  Customer_1   63    Male  Los Angeles   \n",
            "1           2  Customer_2   62  Female     New York   \n",
            "2           3  Customer_3   24  Female  Los Angeles   \n",
            "3           4  Customer_4   36  Female        Miami   \n",
            "4           5  Customer_5   46  Female        Miami   \n",
            "\n",
            "   Subscription_Length_Months  Monthly_Bill  Total_Usage_GB  Churn  \n",
            "0                          17         73.36             236      0  \n",
            "1                           1         48.76             172      0  \n",
            "2                           5         85.47             460      0  \n",
            "3                           3         97.94             297      1  \n",
            "4                          19         58.14             266      0  \n",
            "<class 'pandas.core.frame.DataFrame'>\n",
            "RangeIndex: 100000 entries, 0 to 99999\n",
            "Data columns (total 9 columns):\n",
            " #   Column                      Non-Null Count   Dtype  \n",
            "---  ------                      --------------   -----  \n",
            " 0   CustomerID                  100000 non-null  int64  \n",
            " 1   Name                        100000 non-null  object \n",
            " 2   Age                         100000 non-null  int64  \n",
            " 3   Gender                      100000 non-null  object \n",
            " 4   Location                    100000 non-null  object \n",
            " 5   Subscription_Length_Months  100000 non-null  int64  \n",
            " 6   Monthly_Bill                100000 non-null  float64\n",
            " 7   Total_Usage_GB              100000 non-null  int64  \n",
            " 8   Churn                       100000 non-null  int64  \n",
            "dtypes: float64(1), int64(5), object(3)\n",
            "memory usage: 6.9+ MB\n",
            "None\n",
            "          CustomerID            Age  Subscription_Length_Months  \\\n",
            "count  100000.000000  100000.000000               100000.000000   \n",
            "mean    50000.500000      44.027020                   12.490100   \n",
            "std     28867.657797      15.280283                    6.926461   \n",
            "min         1.000000      18.000000                    1.000000   \n",
            "25%     25000.750000      31.000000                    6.000000   \n",
            "50%     50000.500000      44.000000                   12.000000   \n",
            "75%     75000.250000      57.000000                   19.000000   \n",
            "max    100000.000000      70.000000                   24.000000   \n",
            "\n",
            "        Monthly_Bill  Total_Usage_GB          Churn  \n",
            "count  100000.000000   100000.000000  100000.000000  \n",
            "mean       65.053197      274.393650       0.497790  \n",
            "std        20.230696      130.463063       0.499998  \n",
            "min        30.000000       50.000000       0.000000  \n",
            "25%        47.540000      161.000000       0.000000  \n",
            "50%        65.010000      274.000000       0.000000  \n",
            "75%        82.640000      387.000000       1.000000  \n",
            "max       100.000000      500.000000       1.000000  \n"
          ]
        }
      ],
      "source": [
        "import pandas as pd\n",
        "\n",
        "# Load the dataset\n",
        "data = pd.read_excel('/content/customer_churn_large_dataset.xlsx')\n",
        "\n",
        "# Initial data exploration\n",
        "print(data.head())  # View the first few rows\n",
        "print(data.info())  # Check data types and missing values\n",
        "print(data.describe())  # Summary statistics\n",
        "\n"
      ]
    },
    {
      "cell_type": "code",
      "source": [
        "#handling missing data\n",
        "data.isnull().value_counts()"
      ],
      "metadata": {
        "colab": {
          "base_uri": "https://localhost:8080/"
        },
        "id": "AOy9aif-QlAo",
        "outputId": "eb0aca1c-b605-4dc3-882b-09d007ef6b84"
      },
      "execution_count": 3,
      "outputs": [
        {
          "output_type": "execute_result",
          "data": {
            "text/plain": [
              "CustomerID  Name   Age    Gender  Location  Subscription_Length_Months  Monthly_Bill  Total_Usage_GB  Churn\n",
              "False       False  False  False   False     False                       False         False           False    100000\n",
              "dtype: int64"
            ]
          },
          "metadata": {},
          "execution_count": 3
        }
      ]
    },
    {
      "cell_type": "code",
      "source": [
        "# Split data into training and testing sets (e.g., 80% train, 20% test)\n",
        "# Split the data into training and testing sets\n",
        "from sklearn.model_selection import train_test_split\n",
        "X = data.drop('Churn', axis=1)\n",
        "y = data['Churn']\n",
        "X_train, X_test, y_train, y_test = train_test_split(X, y, test_size=0.2, random_state=42)"
      ],
      "metadata": {
        "id": "F9ckCm5fSvl6"
      },
      "execution_count": 6,
      "outputs": []
    },
    {
      "cell_type": "code",
      "source": [
        "# Feature scaling or normalization (if needed)\n",
        "from sklearn.preprocessing import StandardScaler\n",
        "scaler = StandardScaler()\n",
        "non_numeric_columns = ['Name','Gender','Location']\n",
        "X_train_numeric = X_train.drop(non_numeric_columns, axis=1)\n",
        "X_test_numeric = X_test.drop(non_numeric_columns, axis=1)\n",
        "\n",
        "X_train = scaler.fit_transform(X_train_numeric)\n",
        "X_test = scaler.transform(X_test_numeric)"
      ],
      "metadata": {
        "id": "a-t85fuCTMcj"
      },
      "execution_count": 7,
      "outputs": []
    },
    {
      "cell_type": "code",
      "source": [
        "# Choose appropriate machine learning algorithms and train them\n",
        "from sklearn.metrics import accuracy_score, precision_score, recall_score, f1_score\n",
        "from sklearn.linear_model import LogisticRegression\n",
        "from sklearn.ensemble import RandomForestClassifier\n",
        "from sklearn.neural_network import MLPClassifier\n",
        "from sklearn.tree import DecisionTreeClassifier\n",
        "from sklearn.neighbors import KNeighborsClassifier\n",
        "from sklearn.svm import SVC\n",
        "import xgboost as xgb\n",
        "\n",
        "# Example models\n",
        "results = {}\n",
        "#nn_model = MLPClassifier(hidden_layer_sizes=(64, 32), max_iter=1000)\n",
        "\n",
        "# Initialize models\n",
        "models = {\n",
        "    'Random Forest' : RandomForestClassifier(),\n",
        "    \"logistic\": LogisticRegression(),\n",
        "    'MLP':MLPClassifier(hidden_layer_sizes=(64, 32), max_iter=1000),\n",
        "    'Decision Tree': DecisionTreeClassifier(),\n",
        "    'K-Nearest Neighbors': KNeighborsClassifier(),\n",
        "    'Support Vector Machine': SVC(),\n",
        "    'XGBoost': xgb.XGBClassifier()\n",
        "}\n",
        "\n",
        "for name, model in models.items():\n",
        "    model.fit(X_train, y_train)\n",
        "    y_pred = model.predict(X_test)\n",
        "    accuracy = accuracy_score(y_test, y_pred)\n",
        "    precision = precision_score(y_test, y_pred)\n",
        "    recall = recall_score(y_test, y_pred)\n",
        "    f1 = f1_score(y_test, y_pred)\n",
        "\n",
        "    results[name] = {'Accuracy': accuracy, 'Precision': precision, 'Recall': recall, 'F1 Score': f1}\n",
        "\n",
        "# Evaluate the model's performance\n",
        "print(results)\n"
      ],
      "metadata": {
        "colab": {
          "base_uri": "https://localhost:8080/"
        },
        "id": "rN3xgtYPUBhU",
        "outputId": "10538a5e-a1b6-454d-f0c2-b247a9acf3cf"
      },
      "execution_count": 9,
      "outputs": [
        {
          "output_type": "stream",
          "name": "stdout",
          "text": [
            "{'Random Forest': {'Accuracy': 0.4978, 'Precision': 0.4935716525556601, 'Recall': 0.4759600846688842, 'F1 Score': 0.4846059113300493}, 'logistic': {'Accuracy': 0.4994, 'Precision': 0.4928335170893054, 'Recall': 0.3153915935893559, 'F1 Score': 0.3846342962507683}, 'MLP': {'Accuracy': 0.50305, 'Precision': 0.49911833855799376, 'Recall': 0.5135571010986796, 'F1 Score': 0.5062347856326693}, 'Decision Tree': {'Accuracy': 0.5011, 'Precision': 0.49713135379969803, 'Recall': 0.4978328797500252, 'F1 Score': 0.4974818694601128}, 'K-Nearest Neighbors': {'Accuracy': 0.49935, 'Precision': 0.4953600968327618, 'Recall': 0.49501058361052314, 'F1 Score': 0.4951852785480212}, 'Support Vector Machine': {'Accuracy': 0.50365, 'Precision': 0.4996425166825548, 'Recall': 0.4226388468904344, 'F1 Score': 0.45792606345219244}, 'XGBoost': {'Accuracy': 0.5003, 'Precision': 0.49624060150375937, 'Recall': 0.4856365285757484, 'F1 Score': 0.49088130412633724}}\n"
          ]
        }
      ]
    },
    {
      "cell_type": "code",
      "source": [
        "from sklearn.neural_network import MLPClassifier\n",
        "from sklearn.model_selection import GridSearchCV\n",
        "\n",
        "# Define a parameter grid with hyperparameter options\n",
        "param_grid = {\n",
        "    'hidden_layer_sizes': [50, 50],\n",
        "    'activation': ['relu', 'logistic', 'tanh'],\n",
        "    'alpha': [0.0001, 0.001, 0.01],\n",
        "}\n",
        "\n",
        "# Create the GridSearchCV object with the parameter grid\n",
        "grid_search = GridSearchCV(MLPClassifier(), param_grid, cv=5)\n",
        "grid_search.fit(X_train, y_train)\n",
        "\n",
        "# Get the best model from the grid search\n",
        "best_model = grid_search.best_estimator_\n"
      ],
      "metadata": {
        "id": "VaDjevF3jHMD"
      },
      "execution_count": 10,
      "outputs": []
    },
    {
      "cell_type": "code",
      "source": [
        "# Simulate model deployment\n",
        "def predict_churn(new_customer_data):\n",
        "    # Assuming new_customer_data is a DataFrame with the same columns as X_train\n",
        "    new_customer_data_scaled = scaler.transform(new_customer_data)\n",
        "    churn_prediction = best_model.predict(new_customer_data_scaled)\n",
        "    return churn_prediction\n",
        "\n",
        "# Example usage:\n",
        "new_customer_data_dict = {\n",
        "    'CustomerID': [1234],  # Replace 'feature1' and 'value1' with actual data\n",
        "    #'Name': ['ABCD'],  # Replace 'feature2' and 'value2' with actual data\n",
        "    'Age': [45],\n",
        "    #'Gender': ['female'],\n",
        "    #'Location': ['Miami'],\n",
        "    'Subscription_Length_Months': [19],\n",
        "    'Monthly_Bill': [500],\n",
        "    'Total_Usage_GB': [60],\n",
        "    #'Churn': [0],# Replace 'feature3' and 'value3' with actual data\n",
        "    # Add more features and values as needed\n",
        "}\n",
        "\n",
        "new_customer_data = pd.DataFrame(new_customer_data_dict)  # Create a DataFrame with new customer data\n",
        "churn_prediction = predict_churn(new_customer_data)\n",
        "print(churn_prediction)"
      ],
      "metadata": {
        "colab": {
          "base_uri": "https://localhost:8080/"
        },
        "id": "2Qcc37Mwo5sP",
        "outputId": "e97e7122-bba5-4ba4-ea30-2f36cb4c1bd6"
      },
      "execution_count": 20,
      "outputs": [
        {
          "output_type": "stream",
          "name": "stdout",
          "text": [
            "[1]\n"
          ]
        }
      ]
    },
    {
      "cell_type": "code",
      "source": [],
      "metadata": {
        "id": "UPtEI_hvCHng"
      },
      "execution_count": null,
      "outputs": []
    }
  ]
}